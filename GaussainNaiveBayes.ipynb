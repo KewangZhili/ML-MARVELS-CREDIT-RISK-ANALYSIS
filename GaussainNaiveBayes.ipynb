{
 "cells": [
  {
   "cell_type": "code",
   "execution_count": 1,
   "id": "e98a736b-8d4e-4b78-90fe-c98b0ca4cb1f",
   "metadata": {},
   "outputs": [],
   "source": [
    "\n",
    "import numpy as np\n",
    "import pandas as pd\n",
    "import seaborn as sns \n",
    "import matplotlib.pyplot as plt\n",
    "plt.style=\"seaborn\"\n",
    "%matplotlib inline\n",
    "import warnings\n",
    "warnings.filterwarnings('ignore')"
   ]
  },
  {
   "cell_type": "code",
   "execution_count": 2,
   "id": "aa405389-8865-4588-9f62-937db967375c",
   "metadata": {},
   "outputs": [],
   "source": [
    "# Load DataFrames from CSV\n",
    "X_train_pca_df = pd.read_csv(\"X_train_pca.csv\")\n",
    "X_val_pca_df = pd.read_csv(\"X_val.csv\")\n",
    "X_test_pca_df = pd.read_csv(\"X_test.csv\")\n",
    "Y_train = pd.read_csv(\"Y_train.csv\")\n",
    "Y_val = pd.read_csv(\"Y_val.csv\")\n",
    "Y_test = pd.read_csv(\"Y_test.csv\")"
   ]
  },
  {
   "cell_type": "code",
   "execution_count": 3,
   "id": "007b224d-856c-4367-a7c4-ea1dbd2f723f",
   "metadata": {},
   "outputs": [],
   "source": [
    "import numpy as np\n",
    "\n",
    "class GaussianNaiveBayes:\n",
    "    def __init__(self, alpha=1.0):\n",
    "        self.alpha = alpha\n",
    "\n",
    "    def fit(self, X, y):\n",
    "        self.classes = np.unique(y)\n",
    "        self.class_priors = {}\n",
    "        self.mean = {}\n",
    "        self.variance = {}\n",
    "\n",
    "        for c in self.classes:\n",
    "            X_c = X[y == c]\n",
    "            self.class_priors[c] = len(X_c) / len(X)\n",
    "            self.mean[c] = np.mean(X_c, axis=0)\n",
    "            self.variance[c] = np.var(X_c, axis=0) + self.alpha\n",
    "\n",
    "            # Print progress\n",
    "            # print(f\"Class {c} - Prior: {self.class_priors[c]}, Mean: {self.mean[c]}, Variance: {self.variance[c]}\")\n",
    "\n",
    "    def _calculate_likelihood(self, x, mean, var):\n",
    "        exponent = -0.5 * ((x - mean) ** 2 / var)\n",
    "        return np.prod(1 / np.sqrt(2 * np.pi * var)) * np.exp(exponent)\n",
    "\n",
    "    def predict_proba(self, X):\n",
    "        predictions = []\n",
    "        for x in X:\n",
    "            class_scores = {}\n",
    "            for c in self.classes:\n",
    "                likelihood = self._calculate_likelihood(x, self.mean[c], self.variance[c])\n",
    "                class_scores[c] = np.log(self.class_priors[c]) + np.sum(np.log(likelihood))\n",
    "            predictions.append(class_scores)\n",
    "        return predictions\n",
    "\n",
    "    def predict(self, X):\n",
    "        probabilities = self.predict_proba(X)\n",
    "        return [max(p.keys(), key=lambda k: p[k]) for p in probabilities]\n"
   ]
  },
  {
   "cell_type": "code",
   "execution_count": 4,
   "id": "897f90f6-973e-4943-9618-1eb232a08b22",
   "metadata": {},
   "outputs": [],
   "source": [
    "\n",
    "# Check for and handle missing values\n",
    "X_train_pca_df.dropna(inplace=True)\n",
    "Y_train.dropna(inplace=True)\n",
    "\n",
    "# Convert DataFrame to NumPy array\n",
    "X_train_array = X_train_pca_df.values\n",
    "Y_train_array = Y_train.values.flatten()\n",
    "\n",
    "# Initialize and fit the Gaussian Naive Bayes model\n",
    "alpha = 0.3  # Adjust this parameter as needed\n",
    "gnb_model = GaussianNaiveBayes(alpha)\n",
    "gnb_model.fit(X_train_array, Y_train_array)\n",
    "\n"
   ]
  },
  {
   "cell_type": "code",
   "execution_count": 5,
   "id": "f566ac64-0492-4681-92e0-3a012a8b9980",
   "metadata": {},
   "outputs": [],
   "source": [
    "# Make predictions\n",
    "predictions = gnb_model.predict(X_val_pca_df.values)\n",
    "\n",
    "\n"
   ]
  },
  {
   "cell_type": "code",
   "execution_count": 6,
   "id": "93daadef-850f-4317-a2cd-1cbab7feab91",
   "metadata": {},
   "outputs": [
    {
     "data": {
      "image/png": "[encoded data removed]",
      "text/plain": [
       "<Figure size 640x480 with 1 Axes>"
      ]
     },
     "metadata": {},
     "output_type": "display_data"
    }
   ],
   "source": [
    "# Define the range of alpha values to test\n",
    "alpha_values = [1e-8,1e-7,1e-6, 0.01] + [x / 100 for x in range(10, 105, 5)] + [1.0]\n",
    "\n",
    "# Initialize lists to store alpha values and corresponding accuracies\n",
    "alpha_list = []\n",
    "accuracy_list = []\n",
    "\n",
    "# Iterate over each alpha value\n",
    "for alpha in alpha_values:\n",
    "    # Initialize and fit the Gaussian Naive Bayes model\n",
    "    model = GaussianNaiveBayes(alpha=alpha)\n",
    "    model.fit(X_train_pca_df.values, Y_train.values.flatten())\n",
    "    \n",
    "    # Calculate accuracy on validation set\n",
    "    predictions = model.predict(X_val_pca_df.values)\n",
    "    accuracy = (predictions == Y_val.values.flatten()).mean()\n",
    "    \n",
    "    # Append alpha and accuracy to lists\n",
    "    alpha_list.append(alpha)\n",
    "    accuracy_list.append(accuracy)\n",
    "\n",
    "# Plot the accuracy against alpha values\n",
    "plt.plot(alpha_list, accuracy_list, marker='o')\n",
    "plt.xlabel('Alpha')\n",
    "plt.ylabel('Accuracy')\n",
    "plt.title('Accuracy vs Alpha for Gaussian Naive Bayes')\n",
    "plt.xscale('log')  # Use logarithmic scale for alpha values\n",
    "plt.grid(True)\n",
    "plt.show()\n"
   ]
  },
  {
   "cell_type": "code",
   "execution_count": 7,
   "id": "43302375-90b3-40d9-b0e8-3dc5088acec8",
   "metadata": {},
   "outputs": [],
   "source": [
    "#Therefore we apply variance smoothening by selecting alpha=1e-8"
   ]
  },
  {
   "cell_type": "code",
   "execution_count": 8,
   "id": "67c98dc5-1614-4d84-a037-ebbae42aab6b",
   "metadata": {},
   "outputs": [],
   "source": [
    "# Initialize and fit the Gaussian Naive Bayes model\n",
    "alpha = 1e-8  # Adjust this parameter as needed\n",
    "gnb_model = GaussianNaiveBayes(alpha)\n",
    "gnb_model.fit(X_train_pca_df, Y_train)\n",
    "\n"
   ]
  },
  {
   "cell_type": "code",
   "execution_count": 9,
   "id": "aaffd74f-5abd-4148-ad5a-c6a7495eef2b",
   "metadata": {},
   "outputs": [],
   "source": [
    "gnb_predictions = gnb_model.predict(X_test_pca_df.values)"
   ]
  },
  {
   "cell_type": "code",
   "execution_count": 10,
   "id": "ae5e3667-92f6-468d-84d5-3acb426bf7b8",
   "metadata": {},
   "outputs": [
    {
     "name": "stdout",
     "output_type": "stream",
     "text": [
      "Accuracy: 0.765731793542305\n"
     ]
    }
   ],
   "source": [
    "# Evaluate the model\n",
    "accuracy = (gnb_predictions == Y_test.values.flatten()).mean()\n",
    "print(\"Accuracy:\", accuracy)"
   ]
  },
  {
   "cell_type": "code",
   "execution_count": 11,
   "id": "f4fc4f42-ba44-42ee-93f8-7ccc75bad539",
   "metadata": {},
   "outputs": [
    {
     "name": "stdout",
     "output_type": "stream",
     "text": [
      "F1 Score: 0.6641384402613318\n"
     ]
    }
   ],
   "source": [
    "from sklearn.metrics import f1_score\n",
    "\n",
    "# Calculate F1 score\n",
    "f1 = f1_score(Y_test, gnb_predictions, average='weighted')\n",
    "\n",
    "# Print F1 score\n",
    "print(\"F1 Score:\", f1)\n"
   ]
  },
  {
   "cell_type": "code",
   "execution_count": 12,
   "id": "755521a9-f744-4743-acbb-4de8d2ffe756",
   "metadata": {},
   "outputs": [
    {
     "data": {
      "text/plain": [
       "Text(0.5, 1.0, 'Confusion Matrix')"
      ]
     },
     "execution_count": 12,
     "metadata": {},
     "output_type": "execute_result"
    },
    {
     "data": {
      "image/png": "[encoded data removed]",
      "text/plain": [
       "<Figure size 640x480 with 2 Axes>"
      ]
     },
     "metadata": {},
     "output_type": "display_data"
    }
   ],
   "source": [
    "from sklearn.metrics import confusion_matrix\n",
    "cf = confusion_matrix(Y_test,gnb_predictions)\n",
    "plt.figure()\n",
    "sns.heatmap(cf, annot=True)\n",
    "plt.xlabel('Prediction')\n",
    "plt.ylabel('Target')\n",
    "plt.title('Confusion Matrix')"
   ]
  },
  {
   "cell_type": "code",
   "execution_count": 13,
   "id": "3924e1ef-6d92-48b1-8af4-debe65ec1b7d",
   "metadata": {},
   "outputs": [
    {
     "name": "stdout",
     "output_type": "stream",
     "text": [
      "              precision    recall  f1-score   support\n",
      "\n",
      "           0       0.77      1.00      0.87      6498\n",
      "           1       0.00      0.00      0.00      1988\n",
      "\n",
      "    accuracy                           0.77      8486\n",
      "   macro avg       0.38      0.50      0.43      8486\n",
      "weighted avg       0.59      0.77      0.66      8486\n",
      "\n"
     ]
    }
   ],
   "source": [
    "from sklearn.metrics import classification_report, confusion_matrix\n",
    "print(classification_report(Y_test,gnb_predictions))"
   ]
  },
  {
   "cell_type": "code",
   "execution_count": null,
   "id": "32231de2-bf68-48e3-ae32-b57f8e932337",
   "metadata": {},
   "outputs": [],
   "source": []
  }
 ],
 "metadata": {
  "kernelspec": {
   "display_name": "Python 3 (ipykernel)",
   "language": "python",
   "name": "python3"
  },
  "language_info": {
   "codemirror_mode": {
    "name": "ipython",
    "version": 3
   },
   "file_extension": ".py",
   "mimetype": "text/x-python",
   "name": "python",
   "nbconvert_exporter": "python",
   "pygments_lexer": "ipython3",
   "version": "3.10.4"
  }
 },
 "nbformat": 4,
 "nbformat_minor": 5
}
